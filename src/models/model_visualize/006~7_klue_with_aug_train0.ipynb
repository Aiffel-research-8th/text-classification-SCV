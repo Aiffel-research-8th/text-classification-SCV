{
 "cells": [
  {
   "cell_type": "markdown",
   "id": "16e40d41",
   "metadata": {},
   "source": [
    "## 0. 라이브러리"
   ]
  },
  {
   "cell_type": "code",
   "execution_count": 1,
   "id": "45aca6e9",
   "metadata": {},
   "outputs": [],
   "source": [
    "import os\n",
    "import pandas as pd\n",
    "import tensorflow as tf\n",
    "from transformers import BertTokenizer, TFBertForSequenceClassification, TFBertModel\n",
    "from sklearn.model_selection import train_test_split\n",
    "from tensorflow.keras.utils import plot_model\n",
    "import json\n",
    "from soynlp.normalizer import *\n",
    "from tqdm import tqdm\n",
    "import re\n",
    "import tensorflow as tf\n",
    "import matplotlib.pyplot as plt\n",
    "import random\n",
    "from tensorflow.keras.callbacks import EarlyStopping, ModelCheckpoint\n",
    "from tensorflow.keras.regularizers import l2\n",
    "import numpy as np"
   ]
  },
  {
   "cell_type": "markdown",
   "id": "961889a2",
   "metadata": {},
   "source": [
    "## 1. 데이터 불러오기"
   ]
  },
  {
   "cell_type": "code",
   "execution_count": 2,
   "id": "da50c501",
   "metadata": {},
   "outputs": [
    {
     "data": {
      "text/html": [
       "<div>\n",
       "<style scoped>\n",
       "    .dataframe tbody tr th:only-of-type {\n",
       "        vertical-align: middle;\n",
       "    }\n",
       "\n",
       "    .dataframe tbody tr th {\n",
       "        vertical-align: top;\n",
       "    }\n",
       "\n",
       "    .dataframe thead th {\n",
       "        text-align: right;\n",
       "    }\n",
       "</style>\n",
       "<table border=\"1\" class=\"dataframe\">\n",
       "  <thead>\n",
       "    <tr style=\"text-align: right;\">\n",
       "      <th></th>\n",
       "      <th>class</th>\n",
       "      <th>conversation</th>\n",
       "    </tr>\n",
       "    <tr>\n",
       "      <th>idx</th>\n",
       "      <th></th>\n",
       "      <th></th>\n",
       "    </tr>\n",
       "  </thead>\n",
       "  <tbody>\n",
       "    <tr>\n",
       "      <th>1</th>\n",
       "      <td>기타 괴롭힘 대화</td>\n",
       "      <td>저기요 사장님\\n네 무슨일인가요?\\n제가 여기서 짜장면을 사갔는데.상태가 안좋네요....</td>\n",
       "    </tr>\n",
       "    <tr>\n",
       "      <th>2</th>\n",
       "      <td>협박 대화</td>\n",
       "      <td>어꺠를 쳤으면 사과를 해야지.\\n세상이 말세다. 말세야 너가 뭔데 사과를 해라마라야...</td>\n",
       "    </tr>\n",
       "    <tr>\n",
       "      <th>3</th>\n",
       "      <td>협박 대화</td>\n",
       "      <td>이새끼야 내돈가지고와\\n한번만 봐주세요 .다음주까지가지고올게요\\n됏고 이새끼야 야!...</td>\n",
       "    </tr>\n",
       "    <tr>\n",
       "      <th>4</th>\n",
       "      <td>일반 대화</td>\n",
       "      <td>정촌은 버스가 늘어야 행\\n너무 불편함\\n버스 노선 너무 길어 ㅠㅠ\\n버스가 넘 없...</td>\n",
       "    </tr>\n",
       "    <tr>\n",
       "      <th>5</th>\n",
       "      <td>직장 내 괴롭힘 대화</td>\n",
       "      <td>박과장 일로와바\\n네 부르셨습니까\\n요즘 이대리 일을 하는거야 마는거야\\n그게 무슨...</td>\n",
       "    </tr>\n",
       "    <tr>\n",
       "      <th>...</th>\n",
       "      <td>...</td>\n",
       "      <td>...</td>\n",
       "    </tr>\n",
       "    <tr>\n",
       "      <th>4826</th>\n",
       "      <td>기타 괴롭힘 대화</td>\n",
       "      <td>저기 이 제품 좀 꺼내서 볼 수 있나요?\\n네? 어떤 제품 말씀하세요 고객님?\\n여...</td>\n",
       "    </tr>\n",
       "    <tr>\n",
       "      <th>4827</th>\n",
       "      <td>기타 괴롭힘 대화</td>\n",
       "      <td>우리 귀여운 철수야 여기 돈 줄테니까 핫도그랑 콜라좀 사다줄래? 남은 돈은 너 가져...</td>\n",
       "    </tr>\n",
       "    <tr>\n",
       "      <th>4828</th>\n",
       "      <td>협박 대화</td>\n",
       "      <td>후보직 사퇴해\\n무슨뜬금없는소리야\\n니 가정 파탄나기싫으면 사퇴하라고\\n내가 이런 ...</td>\n",
       "    </tr>\n",
       "    <tr>\n",
       "      <th>4829</th>\n",
       "      <td>직장 내 괴롭힘 대화</td>\n",
       "      <td>오늘 저녁에 회사 업무 끝나고 사장님 생일 때 할 공연 준비해야하는거 알지? 다 남...</td>\n",
       "    </tr>\n",
       "    <tr>\n",
       "      <th>4830</th>\n",
       "      <td>기타 괴롭힘 대화</td>\n",
       "      <td>아 찐따새끼 진짜 쟤 저렇게 맞고도 학교 잘 나온다\\n그러게 쟤도 참 징하다 나 같...</td>\n",
       "    </tr>\n",
       "  </tbody>\n",
       "</table>\n",
       "<p>4830 rows × 2 columns</p>\n",
       "</div>"
      ],
      "text/plain": [
       "            class                                       conversation\n",
       "idx                                                                 \n",
       "1       기타 괴롭힘 대화  저기요 사장님\\n네 무슨일인가요?\\n제가 여기서 짜장면을 사갔는데.상태가 안좋네요....\n",
       "2           협박 대화  어꺠를 쳤으면 사과를 해야지.\\n세상이 말세다. 말세야 너가 뭔데 사과를 해라마라야...\n",
       "3           협박 대화  이새끼야 내돈가지고와\\n한번만 봐주세요 .다음주까지가지고올게요\\n됏고 이새끼야 야!...\n",
       "4           일반 대화  정촌은 버스가 늘어야 행\\n너무 불편함\\n버스 노선 너무 길어 ㅠㅠ\\n버스가 넘 없...\n",
       "5     직장 내 괴롭힘 대화  박과장 일로와바\\n네 부르셨습니까\\n요즘 이대리 일을 하는거야 마는거야\\n그게 무슨...\n",
       "...           ...                                                ...\n",
       "4826    기타 괴롭힘 대화  저기 이 제품 좀 꺼내서 볼 수 있나요?\\n네? 어떤 제품 말씀하세요 고객님?\\n여...\n",
       "4827    기타 괴롭힘 대화  우리 귀여운 철수야 여기 돈 줄테니까 핫도그랑 콜라좀 사다줄래? 남은 돈은 너 가져...\n",
       "4828        협박 대화  후보직 사퇴해\\n무슨뜬금없는소리야\\n니 가정 파탄나기싫으면 사퇴하라고\\n내가 이런 ...\n",
       "4829  직장 내 괴롭힘 대화  오늘 저녁에 회사 업무 끝나고 사장님 생일 때 할 공연 준비해야하는거 알지? 다 남...\n",
       "4830    기타 괴롭힘 대화  아 찐따새끼 진짜 쟤 저렇게 맞고도 학교 잘 나온다\\n그러게 쟤도 참 징하다 나 같...\n",
       "\n",
       "[4830 rows x 2 columns]"
      ]
     },
     "execution_count": 2,
     "metadata": {},
     "output_type": "execute_result"
    }
   ],
   "source": [
    "train_data_path =\"~/aiffel/dktc/data2/train0.csv\"\n",
    "train_data = pd.read_csv(train_data_path,index_col=0)\n",
    "train_data"
   ]
  },
  {
   "cell_type": "markdown",
   "id": "3f058fda",
   "metadata": {},
   "source": [
    "## 2. 데이터 준비 (Data preparation)\n",
    "### 2.1-1 전처리 함수 정의"
   ]
  },
  {
   "cell_type": "code",
   "execution_count": 3,
   "id": "372f00d5",
   "metadata": {},
   "outputs": [],
   "source": [
    "def preprocess_sentence(sentence):\n",
    "    # synolp\n",
    "    emoticon_normalize(sentence)\n",
    "    repeat_normalize(sentence)\n",
    "    #sentence = re.sub(r'[^\\w\\s]', '', sentence)\n",
    "    # base preprocess\n",
    "    sentence = re.sub(r'([^a-zA-Zㄱ-ㅎ가-힣?.!,])', \" \", sentence)\n",
    "    sentence = re.sub(r'!+', '!', sentence)\n",
    "    sentence = re.sub(r'\\?+', '?', sentence)\n",
    "    sentence = re.sub(r\"([?.!,])\", r\" \\1 \", sentence)\n",
    "    sentence = re.sub(r'[\" \"]+', \" \", sentence)\n",
    "    # 엔터 구분 (\\n)\n",
    "    sentence = sentence.replace(\"\\n\", \"<EOL>\")\n",
    "    sentence = sentence.strip()\n",
    "    return sentence"
   ]
  },
  {
   "cell_type": "markdown",
   "id": "7057d06f",
   "metadata": {},
   "source": [
    "### 2.1-2 전처리 함수 적용"
   ]
  },
  {
   "cell_type": "code",
   "execution_count": 4,
   "id": "781bac7d",
   "metadata": {},
   "outputs": [
    {
     "name": "stderr",
     "output_type": "stream",
     "text": [
      "100%|██████████| 4830/4830 [00:01<00:00, 3291.03it/s]\n"
     ]
    }
   ],
   "source": [
    "# 학습할 문장이 담길 배열\n",
    "sentences = []\n",
    "\n",
    "for val in tqdm(train_data['conversation']):\n",
    "    sentences.append(preprocess_sentence(val))"
   ]
  },
  {
   "cell_type": "markdown",
   "id": "7f3bd4f2",
   "metadata": {},
   "source": [
    "### 2.2 최대 길이 지정"
   ]
  },
  {
   "cell_type": "code",
   "execution_count": 5,
   "id": "a1aeb628",
   "metadata": {},
   "outputs": [],
   "source": [
    "MAX_LEN = 250"
   ]
  },
  {
   "cell_type": "markdown",
   "id": "75a91187",
   "metadata": {},
   "source": [
    "### 2.3 class(label) 인코딩"
   ]
  },
  {
   "cell_type": "code",
   "execution_count": 6,
   "id": "bc671eea",
   "metadata": {},
   "outputs": [
    {
     "data": {
      "text/plain": [
       "4830"
      ]
     },
     "execution_count": 6,
     "metadata": {},
     "output_type": "execute_result"
    }
   ],
   "source": [
    "from sklearn.preprocessing import LabelEncoder\n",
    "\n",
    "CLASS_NAMES = ['협박 대화', '갈취 대화', '직장 내 괴롭힘 대화', '기타 괴롭힘 대화','일반 대화']\n",
    "\n",
    "encoder = LabelEncoder()\n",
    "encoder.fit(CLASS_NAMES)\n",
    "\n",
    "train_data['class'] = encoder.transform(train_data['class'])\n",
    "labels = train_data['class']\n",
    "\n",
    "len(labels)"
   ]
  },
  {
   "cell_type": "code",
   "execution_count": 7,
   "id": "e254b83c",
   "metadata": {},
   "outputs": [
    {
     "name": "stdout",
     "output_type": "stream",
     "text": [
      "Class mapping: {'협박 대화': 4, '갈취 대화': 0, '직장 내 괴롭힘 대화': 3, '기타 괴롭힘 대화': 1, '일반 대화': 2}\n"
     ]
    }
   ],
   "source": [
    "class_mapping = {class_name: encoder.transform([class_name])[0] for class_name in CLASS_NAMES}\n",
    "print(\"Class mapping:\", class_mapping)"
   ]
  },
  {
   "cell_type": "code",
   "execution_count": 8,
   "id": "82f38cb1",
   "metadata": {},
   "outputs": [],
   "source": [
    "def convert_examples_to_features(examples, labels, max_seq_len, tokenizer):\n",
    "    \n",
    "    input_ids, attention_masks, token_type_ids, data_labels = [], [], [], []\n",
    "    \n",
    "    for example, label in tqdm(zip(examples, labels), total=len(examples)):\n",
    "        # input_id는 워드 임베딩을 위한 문장의 정수 인코딩\n",
    "        input_id = tokenizer.encode(example, \n",
    "                                    max_length=max_seq_len, \n",
    "                                    pad_to_max_length=True,\n",
    "                                   )\n",
    "        \n",
    "        # attention_mask는 실제 단어가 위치하면 1, 패딩의 위치에는 0인 시퀀스\n",
    "        padding_count = input_id.count(tokenizer.pad_token_id)\n",
    "        attention_mask = [1] * (max_seq_len - padding_count) + [0] * padding_count\n",
    "        \n",
    "        # token_type_id은 세그먼트 인코딩\n",
    "        token_type_id = [0] * max_seq_len\n",
    "        \n",
    "        assert len(input_id) == max_seq_len, \"Error with input length {} vs {}\".format(len(input_id), max_seq_len)\n",
    "        assert len(attention_mask) == max_seq_len, \"Error with attention mask length {} vs {}\".format(len(attention_mask), max_seq_len)\n",
    "        assert len(token_type_id) == max_seq_len, \"Error with token type length {} vs {}\".format(len(token_type_id), max_seq_len)\n",
    "        \n",
    "        input_ids.append(input_id)\n",
    "        attention_masks.append(attention_mask)\n",
    "        token_type_ids.append(token_type_id)\n",
    "        data_labels.append(label)\n",
    "    \n",
    "    input_ids = np.array(input_ids, dtype=int)\n",
    "    attention_masks = np.array(attention_masks, dtype=int)\n",
    "    token_type_ids = np.array(token_type_ids, dtype=int)\n",
    "    \n",
    "    data_labels = np.asarray(data_labels, dtype=np.int32)\n",
    "    \n",
    "    return (input_ids, attention_masks, token_type_ids), data_labels"
   ]
  },
  {
   "cell_type": "markdown",
   "id": "3d5e2299",
   "metadata": {},
   "source": [
    "### 2.4 train-val"
   ]
  },
  {
   "cell_type": "code",
   "execution_count": 9,
   "id": "bc1a4578",
   "metadata": {},
   "outputs": [],
   "source": [
    "train_sentences, val_sentences, train_labels, val_labels = train_test_split(\n",
    "    sentences, labels, test_size=0.2, random_state=42, stratify=labels)"
   ]
  },
  {
   "cell_type": "code",
   "execution_count": 10,
   "id": "1ce8327f",
   "metadata": {},
   "outputs": [
    {
     "name": "stdout",
     "output_type": "stream",
     "text": [
      "before data augmentation:  3864\n",
      "after data augmentation:  11592\n"
     ]
    },
    {
     "data": {
      "text/html": [
       "<div>\n",
       "<style scoped>\n",
       "    .dataframe tbody tr th:only-of-type {\n",
       "        vertical-align: middle;\n",
       "    }\n",
       "\n",
       "    .dataframe tbody tr th {\n",
       "        vertical-align: top;\n",
       "    }\n",
       "\n",
       "    .dataframe thead th {\n",
       "        text-align: right;\n",
       "    }\n",
       "</style>\n",
       "<table border=\"1\" class=\"dataframe\">\n",
       "  <thead>\n",
       "    <tr style=\"text-align: right;\">\n",
       "      <th></th>\n",
       "      <th>sentence</th>\n",
       "      <th>class</th>\n",
       "    </tr>\n",
       "    <tr>\n",
       "      <th>idx</th>\n",
       "      <th></th>\n",
       "      <th></th>\n",
       "    </tr>\n",
       "  </thead>\n",
       "  <tbody>\n",
       "    <tr>\n",
       "      <th>376</th>\n",
       "      <td>강대리 잠깐 나 좀 보지 네 ! 어제 선배가 집에 급한 일 있어서 일 몇개 좀 더 ...</td>\n",
       "      <td>3</td>\n",
       "    </tr>\n",
       "    <tr>\n",
       "      <th>1646</th>\n",
       "      <td>키키 오늘 뭐 먹을래 ? 오늘 소는 별로니까 그럼 소로 먹는 게 좋을 듯 키키 너다...</td>\n",
       "      <td>2</td>\n",
       "    </tr>\n",
       "    <tr>\n",
       "      <th>3337</th>\n",
       "      <td>일을 왜 이렇게 처리해 ? 원래 하던 방식인데요 이렇게 하면 안되지 그럼 다시 알려...</td>\n",
       "      <td>3</td>\n",
       "    </tr>\n",
       "    <tr>\n",
       "      <th>4116</th>\n",
       "      <td>김대리 ! 스카프 샀어 ? 네네 너무 이쁘다 비싸보여 월급 받은 기념으로 하나 샀어...</td>\n",
       "      <td>0</td>\n",
       "    </tr>\n",
       "    <tr>\n",
       "      <th>327</th>\n",
       "      <td>왜 내가 부탁한 돈 아직도 안보냈어 ? 나 돈 없는거 알잖아 ? 그럼 우리 니가 보...</td>\n",
       "      <td>4</td>\n",
       "    </tr>\n",
       "    <tr>\n",
       "      <th>...</th>\n",
       "      <td>...</td>\n",
       "      <td>...</td>\n",
       "    </tr>\n",
       "    <tr>\n",
       "      <th>2886</th>\n",
       "      <td>나씨 아니 내가 일이 너무 많아서 그런데 내 부탁 들어줄 수 있지 ? 아 넵 ! 아...</td>\n",
       "      <td>3</td>\n",
       "    </tr>\n",
       "    <tr>\n",
       "      <th>2809</th>\n",
       "      <td>배달왔습니다 ! 아 배달이네 배달온거 저기 냉장고에 넣고 넣는 김에 냉장고도 정리해...</td>\n",
       "      <td>1</td>\n",
       "    </tr>\n",
       "    <tr>\n",
       "      <th>2830</th>\n",
       "      <td>이제 두달후면 우리 아이 태어나잖아 . 제발 다시 생각해주면 안돼 ? 내 애라는 증...</td>\n",
       "      <td>4</td>\n",
       "    </tr>\n",
       "    <tr>\n",
       "      <th>4714</th>\n",
       "      <td>오니까 갑자기 무슨냄새나지않냐 아그러게 이게무슨냄새야 쓰레기 냄새나는거같은대 나씻구...</td>\n",
       "      <td>1</td>\n",
       "    </tr>\n",
       "    <tr>\n",
       "      <th>1062</th>\n",
       "      <td>저기 혹시 죄송한데 리뷰이벤트를 해주시기로 했는데 안해주셔서 연락드렸습니다 . 네 ...</td>\n",
       "      <td>1</td>\n",
       "    </tr>\n",
       "  </tbody>\n",
       "</table>\n",
       "<p>11592 rows × 2 columns</p>\n",
       "</div>"
      ],
      "text/plain": [
       "                                               sentence  class\n",
       "idx                                                           \n",
       "376   강대리 잠깐 나 좀 보지 네 ! 어제 선배가 집에 급한 일 있어서 일 몇개 좀 더 ...      3\n",
       "1646  키키 오늘 뭐 먹을래 ? 오늘 소는 별로니까 그럼 소로 먹는 게 좋을 듯 키키 너다...      2\n",
       "3337  일을 왜 이렇게 처리해 ? 원래 하던 방식인데요 이렇게 하면 안되지 그럼 다시 알려...      3\n",
       "4116  김대리 ! 스카프 샀어 ? 네네 너무 이쁘다 비싸보여 월급 받은 기념으로 하나 샀어...      0\n",
       "327   왜 내가 부탁한 돈 아직도 안보냈어 ? 나 돈 없는거 알잖아 ? 그럼 우리 니가 보...      4\n",
       "...                                                 ...    ...\n",
       "2886  나씨 아니 내가 일이 너무 많아서 그런데 내 부탁 들어줄 수 있지 ? 아 넵 ! 아...      3\n",
       "2809  배달왔습니다 ! 아 배달이네 배달온거 저기 냉장고에 넣고 넣는 김에 냉장고도 정리해...      1\n",
       "2830  이제 두달후면 우리 아이 태어나잖아 . 제발 다시 생각해주면 안돼 ? 내 애라는 증...      4\n",
       "4714  오니까 갑자기 무슨냄새나지않냐 아그러게 이게무슨냄새야 쓰레기 냄새나는거같은대 나씻구...      1\n",
       "1062  저기 혹시 죄송한데 리뷰이벤트를 해주시기로 했는데 안해주셔서 연락드렸습니다 . 네 ...      1\n",
       "\n",
       "[11592 rows x 2 columns]"
      ]
     },
     "execution_count": 10,
     "metadata": {},
     "output_type": "execute_result"
    }
   ],
   "source": [
    "# train data 증강\n",
    "\n",
    "def random_deletion(words, p=0.3):\n",
    "    if len(words) == 1:\n",
    "        return words\n",
    "\n",
    "    new_words = []\n",
    "    for word in words:\n",
    "        r = random.uniform(0, 1)\n",
    "        if r > p:\n",
    "            new_words.append(word)\n",
    "\n",
    "    if len(new_words) == 0:\n",
    "        rand_int = random.randint(0, len(words) - 1)\n",
    "        return [words[rand_int]]\n",
    "\n",
    "    return \"\".join(new_words)\n",
    "\n",
    "def swap_word(new_words):\n",
    "    random_idx_1 = random.randint(0, len(new_words) - 1)\n",
    "    random_idx_2 = random_idx_1\n",
    "    counter = 0\n",
    "\n",
    "    while random_idx_2 == random_idx_1:\n",
    "        random_idx_2 = random.randint(0, len(new_words) - 1)\n",
    "        counter += 1\n",
    "        if counter > 3:\n",
    "            return new_words\n",
    "\n",
    "    new_words[random_idx_1], new_words[random_idx_2] = (\n",
    "        new_words[random_idx_2],\n",
    "        new_words[random_idx_1],\n",
    "    )\n",
    "    return new_words\n",
    "\n",
    "\n",
    "def random_swap(words, n=3):\n",
    "    new_words = words.copy()\n",
    "    for _ in range(n):\n",
    "        new_words = swap_word(new_words)\n",
    "\n",
    "    return new_words\n",
    "\n",
    "\n",
    "print(\"before data augmentation: \", len(train_sentences))\n",
    "\n",
    "train_splted = pd.DataFrame({ \"sentence\": train_sentences, \"class\": train_labels })\n",
    "\n",
    "# random deletion\n",
    "train_splted_rd = train_splted.copy()\n",
    "train_splted_rd[\"sentence\"] = train_splted_rd[\"sentence\"].apply(random_deletion)\n",
    "\n",
    "# random swap\n",
    "train_splted_rs = train_splted.copy()\n",
    "\n",
    "# with data augmentation\n",
    "train_concated = pd.concat([train_splted , train_splted_rd , train_splted_rs])\n",
    "\n",
    "print(\"after data augmentation: \", len(train_concated))\n",
    "\n",
    "train_concated"
   ]
  },
  {
   "cell_type": "code",
   "execution_count": 11,
   "id": "8dbb06ac",
   "metadata": {},
   "outputs": [
    {
     "name": "stdout",
     "output_type": "stream",
     "text": [
      "11592\n"
     ]
    }
   ],
   "source": [
    "train_sentences, train_labels = train_concated[\"sentence\"], train_concated[\"class\"]\n",
    "print(len(train_sentences))"
   ]
  },
  {
   "cell_type": "markdown",
   "id": "ba399dff",
   "metadata": {},
   "source": [
    "## 3. 모델\n",
    "### 3.1-1 토크나이저 정의"
   ]
  },
  {
   "cell_type": "code",
   "execution_count": 12,
   "id": "f12c46c5",
   "metadata": {},
   "outputs": [
    {
     "data": {
      "text/plain": [
       "1"
      ]
     },
     "execution_count": 12,
     "metadata": {},
     "output_type": "execute_result"
    }
   ],
   "source": [
    "# BERT 토크나이저와 모델 준비\n",
    "model_name = \"klue/bert-base\"\n",
    "\n",
    "tokenizer = BertTokenizer.from_pretrained(model_name)\n",
    "special_tokens_dict = {'additional_special_tokens': ['<EOL>']}\n",
    "tokenizer.add_special_tokens(special_tokens_dict)"
   ]
  },
  {
   "cell_type": "markdown",
   "id": "c7689996",
   "metadata": {},
   "source": [
    "### 3.1-2 토크나이저 적용"
   ]
  },
  {
   "cell_type": "code",
   "execution_count": 13,
   "id": "81920991",
   "metadata": {},
   "outputs": [
    {
     "name": "stderr",
     "output_type": "stream",
     "text": [
      "  0%|          | 0/11592 [00:00<?, ?it/s]Truncation was not explicitly activated but `max_length` is provided a specific value, please use `truncation=True` to explicitly truncate examples to max length. Defaulting to 'longest_first' truncation strategy. If you encode pairs of sequences (GLUE-style) with the tokenizer you can select this strategy more precisely by providing a specific strategy to `truncation`.\n",
      "/opt/conda/lib/python3.9/site-packages/transformers/tokenization_utils_base.py:2211: FutureWarning: The `pad_to_max_length` argument is deprecated and will be removed in a future version, use `padding=True` or `padding='longest'` to pad to the longest sequence in the batch, or use `padding='max_length'` to pad to a max length. In this case, you can give a specific length with `max_length` (e.g. `max_length=45`) or leave max_length to None to pad to the maximal input size of the model (e.g. 512 for Bert).\n",
      "  warnings.warn(\n",
      "100%|██████████| 11592/11592 [00:10<00:00, 1123.45it/s]\n",
      "100%|██████████| 966/966 [00:00<00:00, 1072.45it/s]\n"
     ]
    }
   ],
   "source": [
    "# 데이터셋을 BERT 입력 형식으로 변환\n",
    "X_train, y_train = convert_examples_to_features(\n",
    "    train_sentences, train_labels, \n",
    "    max_seq_len=MAX_LEN, tokenizer=tokenizer\n",
    ")\n",
    "X_valid, y_valid = convert_examples_to_features(\n",
    "    val_sentences, val_labels, \n",
    "    max_seq_len=MAX_LEN, tokenizer=tokenizer\n",
    ")\n",
    "\n",
    "# train_encodings = tokenizer(train_sentences, truncation=True, padding=True, max_length=MAX_LEN) # 뒤쪽에 패딩\n",
    "# val_encodings = tokenizer(val_sentences, truncation=True, padding=True, max_length=MAX_LEN)"
   ]
  },
  {
   "cell_type": "markdown",
   "id": "8371ff44",
   "metadata": {},
   "source": [
    "### 3.2 모델 준비"
   ]
  },
  {
   "cell_type": "code",
   "execution_count": 14,
   "id": "0f9bc092",
   "metadata": {},
   "outputs": [],
   "source": [
    "class TFBertForMultiClassClassification(tf.keras.Model):\n",
    "    def __init__(self, model_name, num_classes, dropout_rate=0.1):\n",
    "        super(TFBertForMultiClassClassification, self).__init__()\n",
    "        self.bert = TFBertModel.from_pretrained(model_name, from_pt=True)\n",
    "        self.dropout = tf.keras.layers.Dropout(dropout_rate)\n",
    "        self.classifier = tf.keras.layers.Dense(num_classes,\n",
    "                                                kernel_initializer=tf.keras.initializers.TruncatedNormal(0.02),\n",
    "                                                kernel_regularizer=l2(0.01),\n",
    "                                                activation='softmax',\n",
    "                                                name='classifier')\n",
    "\n",
    "    def call(self, inputs):\n",
    "        input_ids, attention_mask, token_type_ids = inputs\n",
    "        outputs = self.bert(input_ids=input_ids,\n",
    "                            attention_mask=attention_mask,\n",
    "                            token_type_ids=token_type_ids)\n",
    "        cls_token = outputs[1]\n",
    "        dropped = self.dropout(cls_token)\n",
    "        prediction = self.classifier(dropped)\n",
    "        return prediction"
   ]
  },
  {
   "cell_type": "code",
   "execution_count": 15,
   "id": "a157a7f2",
   "metadata": {},
   "outputs": [
    {
     "name": "stderr",
     "output_type": "stream",
     "text": [
      "Some weights of the PyTorch model were not used when initializing the TF 2.0 model TFBertModel: ['cls.predictions.decoder.weight', 'cls.predictions.transform.LayerNorm.weight', 'cls.predictions.decoder.bias', 'cls.predictions.bias', 'cls.predictions.transform.dense.bias', 'cls.predictions.transform.dense.weight', 'cls.seq_relationship.weight', 'cls.seq_relationship.bias', 'cls.predictions.transform.LayerNorm.bias', 'bert.embeddings.position_ids']\n",
      "- This IS expected if you are initializing TFBertModel from a PyTorch model trained on another task or with another architecture (e.g. initializing a TFBertForSequenceClassification model from a BertForPreTraining model).\n",
      "- This IS NOT expected if you are initializing TFBertModel from a PyTorch model that you expect to be exactly identical (e.g. initializing a TFBertForSequenceClassification model from a BertForSequenceClassification model).\n",
      "All the weights of TFBertModel were initialized from the PyTorch model.\n",
      "If your task is similar to the task the model of the checkpoint was trained on, you can already use TFBertModel for predictions without further training.\n"
     ]
    }
   ],
   "source": [
    "model = TFBertForMultiClassClassification(model_name, num_classes=5)"
   ]
  },
  {
   "cell_type": "markdown",
   "id": "94bf5a68",
   "metadata": {},
   "source": [
    "### 3.3 파라미터"
   ]
  },
  {
   "cell_type": "code",
   "execution_count": 16,
   "id": "262e5b63",
   "metadata": {},
   "outputs": [],
   "source": [
    "BATCH_SIZE = 16\n",
    "lr = 5e-5\n",
    "EPOCH = 10"
   ]
  },
  {
   "cell_type": "markdown",
   "id": "e87da7fa",
   "metadata": {},
   "source": [
    "### 3.4 TF 데이터셋 생성"
   ]
  },
  {
   "cell_type": "code",
   "execution_count": 17,
   "id": "df4305f7",
   "metadata": {},
   "outputs": [],
   "source": [
    "# TensorFlow 데이터셋 생성\n",
    "# train_dataset = tf.data.Dataset.from_tensor_slices((\n",
    "#     dict(X_train),\n",
    "#     y_train\n",
    "# )).shuffle(100).batch(BATCH_SIZE)\n",
    "\n",
    "# val_dataset = tf.data.Dataset.from_tensor_slices((\n",
    "#     dict(X_valid),\n",
    "#     y_valid\n",
    "# )).batch(BATCH_SIZE)\n"
   ]
  },
  {
   "cell_type": "markdown",
   "id": "5c8c46bd",
   "metadata": {},
   "source": [
    "### 3.5 모델 컴파일"
   ]
  },
  {
   "cell_type": "code",
   "execution_count": 18,
   "id": "61dfd43d",
   "metadata": {},
   "outputs": [],
   "source": [
    "model.compile(optimizer=tf.keras.optimizers.Adam(learning_rate=lr),\n",
    "              loss=tf.keras.losses.SparseCategoricalCrossentropy(),\n",
    "              metrics=['accuracy'])"
   ]
  },
  {
   "cell_type": "markdown",
   "id": "4e5422b1",
   "metadata": {},
   "source": [
    "### 3.6 모델 훈련"
   ]
  },
  {
   "cell_type": "markdown",
   "id": "9f06836a",
   "metadata": {},
   "source": [
    "### 3.6-1 콜백 설정"
   ]
  },
  {
   "cell_type": "code",
   "execution_count": 22,
   "id": "9c00f37d",
   "metadata": {},
   "outputs": [],
   "source": [
    "import datetime \n",
    "\n",
    "early_stopping = EarlyStopping(\n",
    "    monitor='val_loss',    # 검증 손실을 모니터링\n",
    "    patience=2,            # 3 에포크 동안 개선되지 않으면 중지\n",
    "    restore_best_weights=True  # 최상의 가중치를 복원\n",
    ")\n",
    "\n",
    "now = datetime.datetime.now()\n",
    "time = now.strftime(\"%y-%m-%d %H:%M\")\n",
    "data_type = 0\n",
    "\n",
    "checkpoint = ModelCheckpoint(\n",
    "    filepath='best_model_weights.h5',  # 모델 가중치를 저장할 파일 경로\n",
    "    monitor='val_loss',        # 검증 손실을 모니터링\n",
    "    save_best_only=True,       # 최상의 모델만 저장\n",
    "    save_weights_only=True,    # 저장 (가중치)\n",
    "    mode='min',                # 'val_loss'가 최소일 때 저장\n",
    "    verbose=1                  # 저장 시 로그 출력\n",
    ")"
   ]
  },
  {
   "cell_type": "markdown",
   "id": "9ca4fc7f",
   "metadata": {},
   "source": [
    "### 3.6-2 모델 훈련"
   ]
  },
  {
   "cell_type": "code",
   "execution_count": 23,
   "id": "b6958bf9",
   "metadata": {},
   "outputs": [
    {
     "name": "stdout",
     "output_type": "stream",
     "text": [
      "Epoch 1/10\n",
      "363/363 [==============================] - 595s 2s/step - loss: 0.1284 - accuracy: 0.9855 - val_loss: 0.3780 - val_accuracy: 0.9182\n",
      "\n",
      "Epoch 00001: val_loss improved from inf to 0.37804, saving model to best_model_weights.h5\n",
      "Epoch 2/10\n",
      "363/363 [==============================] - 596s 2s/step - loss: 0.0991 - accuracy: 0.9936 - val_loss: 0.3848 - val_accuracy: 0.9389\n",
      "\n",
      "Epoch 00002: val_loss did not improve from 0.37804\n",
      "Epoch 3/10\n",
      "363/363 [==============================] - 596s 2s/step - loss: 0.0885 - accuracy: 0.9945 - val_loss: 0.4438 - val_accuracy: 0.9213\n",
      "\n",
      "Epoch 00003: val_loss did not improve from 0.37804\n"
     ]
    }
   ],
   "source": [
    "history = model.fit(\n",
    "    X_train, y_train, \n",
    "    validation_data=(X_valid, y_valid),\n",
    "    epochs=EPOCH,\n",
    "    callbacks=[early_stopping, checkpoint]\n",
    ")"
   ]
  },
  {
   "cell_type": "markdown",
   "id": "a09b6c47",
   "metadata": {},
   "source": [
    "### 3.6-3 모델 훈련 시각화"
   ]
  },
  {
   "cell_type": "code",
   "execution_count": 24,
   "id": "48122aab",
   "metadata": {},
   "outputs": [
    {
     "data": {
      "image/png": "[encoded data removed]",
      "text/plain": [
       "<Figure size 864x288 with 2 Axes>"
      ]
     },
     "metadata": {
      "needs_background": "light"
     },
     "output_type": "display_data"
    }
   ],
   "source": [
    "plt.figure(figsize=(12, 4))\n",
    "\n",
    "plt.subplot(1, 2, 1)\n",
    "plt.plot(history.history['loss'], label='Training Loss')\n",
    "plt.plot(history.history['val_loss'], label='Validation Loss')\n",
    "plt.title('Loss')\n",
    "plt.xlabel('Epochs')\n",
    "plt.ylabel('Loss')\n",
    "plt.legend()\n",
    "\n",
    "plt.subplot(1, 2, 2)\n",
    "plt.plot(history.history['accuracy'], label='Training Accuracy')\n",
    "plt.plot(history.history['val_accuracy'], label='Validation Accuracy')\n",
    "plt.title('Accuracy')\n",
    "plt.xlabel('Epochs')\n",
    "plt.ylabel('Accuracy')\n",
    "plt.legend()\n",
    "\n",
    "plt.show()"
   ]
  },
  {
   "cell_type": "markdown",
   "id": "b37ccbd1",
   "metadata": {},
   "source": [
    "### 3.7 모델 평가"
   ]
  },
  {
   "cell_type": "code",
   "execution_count": 25,
   "id": "1fa6edb0",
   "metadata": {},
   "outputs": [
    {
     "name": "stdout",
     "output_type": "stream",
     "text": [
      "31/31 [==============================] - 16s 530ms/step - loss: 0.3780 - accuracy: 0.9182\n",
      "평가 결과: [0.37803542613983154, 0.9182194471359253]\n"
     ]
    }
   ],
   "source": [
    "# 모델 평가\n",
    "evaluation = model.evaluate(X_valid, y_valid)\n",
    "print(\"평가 결과:\", evaluation)"
   ]
  },
  {
   "cell_type": "markdown",
   "id": "bc0ea79a",
   "metadata": {},
   "source": [
    "### 3.8 f1score"
   ]
  },
  {
   "cell_type": "code",
   "execution_count": 26,
   "id": "8d706552",
   "metadata": {},
   "outputs": [],
   "source": [
    "from sklearn.metrics import classification_report, f1_score, confusion_matrix\n",
    "from sklearn.metrics import accuracy_score\n",
    "import numpy as np \n",
    "\n",
    "def score(model, val):\n",
    "    X, y = val\n",
    "    # 실제 예측값 생성\n",
    "    real_predictions = model.predict(X)\n",
    "\n",
    "    # 예측값을 레이블로 변환\n",
    "    real_predicted_labels = np.argmax(real_predictions, axis=1)\n",
    "\n",
    "    # 정확도 계산\n",
    "    real_accuracy = accuracy_score(y, real_predicted_labels)\n",
    "    print(f\"Real Accuracy: {real_accuracy:.4f}\")\n",
    "\n",
    "    # 분류 보고서 생성\n",
    "    real_report = classification_report(y, real_predicted_labels, target_names=[f\"Class {i}\" for i in range(5)])\n",
    "    print(real_report)\n",
    "\n",
    "    # F1 스코어 계산\n",
    "    real_f1 = f1_score(y, real_predicted_labels, average='weighted')\n",
    "    print(f\"\\nWeighted F1 Score (based on real predictions): {real_f1:.4f}\")"
   ]
  },
  {
   "cell_type": "code",
   "execution_count": 27,
   "id": "086ef3dd",
   "metadata": {},
   "outputs": [
    {
     "name": "stdout",
     "output_type": "stream",
     "text": [
      "Real Accuracy: 0.9182\n",
      "              precision    recall  f1-score   support\n",
      "\n",
      "     Class 0       0.87      0.89      0.88       196\n",
      "     Class 1       0.85      0.93      0.89       219\n",
      "     Class 2       1.00      1.00      1.00       176\n",
      "     Class 3       0.97      0.92      0.94       196\n",
      "     Class 4       0.92      0.85      0.88       179\n",
      "\n",
      "    accuracy                           0.92       966\n",
      "   macro avg       0.92      0.92      0.92       966\n",
      "weighted avg       0.92      0.92      0.92       966\n",
      "\n",
      "\n",
      "Weighted F1 Score (based on real predictions): 0.9185\n"
     ]
    }
   ],
   "source": [
    "score(model, (X_valid, y_valid))"
   ]
  },
  {
   "cell_type": "markdown",
   "id": "a7a324e7",
   "metadata": {},
   "source": [
    "### AUC-ROC 커브"
   ]
  },
  {
   "cell_type": "code",
   "execution_count": 28,
   "id": "e6b275d5",
   "metadata": {},
   "outputs": [
    {
     "name": "stdout",
     "output_type": "stream",
     "text": [
      "AUC Score: 0.9899\n"
     ]
    },
    {
     "data": {
      "image/png": "[encoded data removed]",
      "text/plain": [
       "<Figure size 864x576 with 1 Axes>"
      ]
     },
     "metadata": {
      "needs_background": "light"
     },
     "output_type": "display_data"
    }
   ],
   "source": [
    "import matplotlib.pyplot as plt\n",
    "from sklearn.metrics import roc_curve, roc_auc_score\n",
    "from sklearn.preprocessing import label_binarize\n",
    "\n",
    "def plot_auc_roc(model, val, n_classes):\n",
    "    X, y = val\n",
    "    # 실제 예측값 생성\n",
    "    real_predictions = model.predict(X)\n",
    "    \n",
    "    # 레이블을 이진화\n",
    "    y_bin = label_binarize(y, classes=[i for i in range(n_classes)])\n",
    "\n",
    "    # AUC 점수 계산\n",
    "    auc = roc_auc_score(y_bin, real_predictions, multi_class=\"ovr\")\n",
    "    print(f\"AUC Score: {auc:.4f}\")\n",
    "\n",
    "    # 각 클래스별 AUC-ROC 커브 그리기\n",
    "    fpr = {}\n",
    "    tpr = {}\n",
    "    roc_auc = {}\n",
    "\n",
    "    for i in range(n_classes):\n",
    "        fpr[i], tpr[i], _ = roc_curve(y_bin[:, i], real_predictions[:, i])\n",
    "        roc_auc[i] = roc_auc_score(y_bin[:, i], real_predictions[:, i])\n",
    "\n",
    "    # ROC 커브 그리기\n",
    "    plt.figure(figsize=(12, 8))\n",
    "    for i in range(n_classes):\n",
    "        plt.plot(fpr[i], tpr[i], label=f'Class {i} (area = {roc_auc[i]:.4f})')\n",
    "\n",
    "    plt.plot([0, 1], [0, 1], 'k--')\n",
    "    plt.xlim([0.0, 1.0])\n",
    "    plt.ylim([0.0, 1.05])\n",
    "    plt.xlabel('False Positive Rate')\n",
    "    plt.ylabel('True Positive Rate')\n",
    "    plt.title('Receiver Operating Characteristic (ROC) Curve')\n",
    "    plt.legend(loc='lower right')\n",
    "    plt.show()\n",
    "\n",
    "# 예시 사용법\n",
    "n_classes = 5\n",
    "plot_auc_roc(model, (X_valid, y_valid), n_classes)"
   ]
  },
  {
   "cell_type": "markdown",
   "id": "8d350e18",
   "metadata": {},
   "source": [
    "### 혼동행렬"
   ]
  },
  {
   "cell_type": "code",
   "execution_count": 45,
   "id": "69d74d4d",
   "metadata": {},
   "outputs": [
    {
     "data": {
      "image/png": "[encoded data removed]",
      "text/plain": [
       "<Figure size 720x504 with 2 Axes>"
      ]
     },
     "metadata": {
      "needs_background": "light"
     },
     "output_type": "display_data"
    }
   ],
   "source": [
    "# 혼동 행렬 생성 및 표시\n",
    "import seaborn as sns\n",
    "real_predictions = model.predict(X_valid)\n",
    "real_predicted_labels = np.argmax(real_predictions, axis=1)\n",
    "real_conf_matrix = confusion_matrix(y_valid, real_predicted_labels)\n",
    "plt.figure(figsize=(10,7))\n",
    "sns.heatmap(real_conf_matrix, annot=True, cmap='Blues', fmt='g', xticklabels=[f\"Class {i}\" for i in range(4)], yticklabels=[f\"Class {i}\" for i in range(4)])\n",
    "plt.xlabel('Predicted Labels')\n",
    "plt.ylabel('True Labels')\n",
    "plt.title('Confusion Matrix (based on real predictions)')\n",
    "plt.show()"
   ]
  },
  {
   "cell_type": "markdown",
   "id": "91065ccb",
   "metadata": {},
   "source": [
    "## 4. 모델 적용"
   ]
  },
  {
   "cell_type": "code",
   "execution_count": 29,
   "id": "29031ac4",
   "metadata": {},
   "outputs": [],
   "source": [
    "import json\n",
    "\n",
    "test_data_path = \"/aiffel/aiffel/dktc/data/test.json\"\n",
    "test = pd.read_json(test_data_path).transpose()"
   ]
  },
  {
   "cell_type": "code",
   "execution_count": 30,
   "id": "f332a23d",
   "metadata": {},
   "outputs": [],
   "source": [
    "import numpy as np\n",
    "\n",
    "test_predict = []\n",
    "\n",
    "for idx, value in test.iterrows():\n",
    "\n",
    "    test_sentence = value[\"text\"]\n",
    "    \n",
    "    test_encodings = tokenizer(test_sentence, truncation=True, padding=\"max_length\", max_length=MAX_LEN, return_tensors=\"tf\")\n",
    "\n",
    "    test_predictions = model.predict(\n",
    "        (test_encodings[\"input_ids\"],\n",
    "         test_encodings[\"attention_mask\"],\n",
    "         test_encodings[\"token_type_ids\"])\n",
    "    )\n",
    "    test_class_probabilities = tf.nn.softmax(test_predictions, axis=-1).numpy() # [[0.13297564 0.8358507  0.00801584 0.02315779]]\n",
    "    test_predicted_class = np.argmax(test_class_probabilities, axis=1) # [ 1 ]\n",
    "    test_predict.append(test_predicted_class[0])"
   ]
  },
  {
   "cell_type": "code",
   "execution_count": 41,
   "id": "f58fb739",
   "metadata": {},
   "outputs": [],
   "source": [
    "# {'협박 대화': 4, '갈취 대화': 0, '직장 내 괴롭힘 대화': 3, '기타 괴롭힘 대화': 1, '일반 대화': 2}\n",
    "#   협박 대화 : 0,  갈취 대화 : 1,  직장 내 괴롭힘 대화 : 2,  기타 괴롭힘 대화 : 3,  일반 대화 : 4\n",
    "def labelnum_to_text(x):\n",
    "    if x == 0:\n",
    "        return '01'\n",
    "    if x == 1:\n",
    "        return '03'\n",
    "    if x == 2:\n",
    "        return '04'\n",
    "    if x == 3:\n",
    "        return '02'\n",
    "    if x == 4:\n",
    "        return '00'\n",
    "\n",
    "submission = pd.read_csv(\"~/aiffel/dktc/data/new_submission.csv\")\n",
    "submission[\"class\"] = [ labelnum_to_text(pred) for pred in test_predict ]\n",
    "\n",
    "submission.to_csv('~/aiffel/dktc/data2/submission_001.csv')"
   ]
  },
  {
   "cell_type": "code",
   "execution_count": null,
   "id": "798fa5e2",
   "metadata": {},
   "outputs": [],
   "source": [
    "# submission "
   ]
  },
  {
   "cell_type": "code",
   "execution_count": 38,
   "id": "7ddcc0dd",
   "metadata": {},
   "outputs": [
    {
     "data": {
      "text/html": [
       "<div>\n",
       "<style scoped>\n",
       "    .dataframe tbody tr th:only-of-type {\n",
       "        vertical-align: middle;\n",
       "    }\n",
       "\n",
       "    .dataframe tbody tr th {\n",
       "        vertical-align: top;\n",
       "    }\n",
       "\n",
       "    .dataframe thead th {\n",
       "        text-align: right;\n",
       "    }\n",
       "</style>\n",
       "<table border=\"1\" class=\"dataframe\">\n",
       "  <thead>\n",
       "    <tr style=\"text-align: right;\">\n",
       "      <th></th>\n",
       "      <th>file_name</th>\n",
       "      <th>class</th>\n",
       "    </tr>\n",
       "  </thead>\n",
       "  <tbody>\n",
       "    <tr>\n",
       "      <th>0</th>\n",
       "      <td>t_000</td>\n",
       "      <td>01</td>\n",
       "    </tr>\n",
       "    <tr>\n",
       "      <th>1</th>\n",
       "      <td>t_001</td>\n",
       "      <td>02</td>\n",
       "    </tr>\n",
       "    <tr>\n",
       "      <th>2</th>\n",
       "      <td>t_002</td>\n",
       "      <td>02</td>\n",
       "    </tr>\n",
       "    <tr>\n",
       "      <th>3</th>\n",
       "      <td>t_003</td>\n",
       "      <td>04</td>\n",
       "    </tr>\n",
       "    <tr>\n",
       "      <th>4</th>\n",
       "      <td>t_004</td>\n",
       "      <td>03</td>\n",
       "    </tr>\n",
       "    <tr>\n",
       "      <th>...</th>\n",
       "      <td>...</td>\n",
       "      <td>...</td>\n",
       "    </tr>\n",
       "    <tr>\n",
       "      <th>495</th>\n",
       "      <td>t_495</td>\n",
       "      <td>02</td>\n",
       "    </tr>\n",
       "    <tr>\n",
       "      <th>496</th>\n",
       "      <td>t_496</td>\n",
       "      <td>02</td>\n",
       "    </tr>\n",
       "    <tr>\n",
       "      <th>497</th>\n",
       "      <td>t_497</td>\n",
       "      <td>01</td>\n",
       "    </tr>\n",
       "    <tr>\n",
       "      <th>498</th>\n",
       "      <td>t_498</td>\n",
       "      <td>00</td>\n",
       "    </tr>\n",
       "    <tr>\n",
       "      <th>499</th>\n",
       "      <td>t_499</td>\n",
       "      <td>00</td>\n",
       "    </tr>\n",
       "  </tbody>\n",
       "</table>\n",
       "<p>500 rows × 2 columns</p>\n",
       "</div>"
      ],
      "text/plain": [
       "    file_name class\n",
       "0       t_000    01\n",
       "1       t_001    02\n",
       "2       t_002    02\n",
       "3       t_003    04\n",
       "4       t_004    03\n",
       "..        ...   ...\n",
       "495     t_495    02\n",
       "496     t_496    02\n",
       "497     t_497    01\n",
       "498     t_498    00\n",
       "499     t_499    00\n",
       "\n",
       "[500 rows x 2 columns]"
      ]
     },
     "execution_count": 38,
     "metadata": {},
     "output_type": "execute_result"
    }
   ],
   "source": [
    "submission"
   ]
  },
  {
   "cell_type": "code",
   "execution_count": null,
   "id": "4510dc73",
   "metadata": {},
   "outputs": [],
   "source": []
  }
 ],
 "metadata": {
  "kernelspec": {
   "display_name": "Python 3 (ipykernel)",
   "language": "python",
   "name": "python3"
  },
  "language_info": {
   "codemirror_mode": {
    "name": "ipython",
    "version": 3
   },
   "file_extension": ".py",
   "mimetype": "text/x-python",
   "name": "python",
   "nbconvert_exporter": "python",
   "pygments_lexer": "ipython3",
   "version": "3.9.7"
  }
 },
 "nbformat": 4,
 "nbformat_minor": 5
}
